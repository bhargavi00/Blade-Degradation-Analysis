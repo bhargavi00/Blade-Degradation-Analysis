{
 "cells": [
  {
   "cell_type": "code",
   "execution_count": 1,
   "metadata": {},
   "outputs": [],
   "source": [
    "import os\n",
    "import pandas as pd\n",
    "import numpy as np\n",
    "import matplotlib.pyplot as plt\n",
    "import seaborn as sns\n",
    "\n",
    "from sklearn.preprocessing import MinMaxScaler\n",
    "from sklearn.metrics import mean_squared_error\n",
    "from sklearn.decomposition import PCA"
   ]
  },
  {
   "cell_type": "markdown",
   "metadata": {},
   "source": [
    "# IF Data"
   ]
  },
  {
   "cell_type": "code",
   "execution_count": 2,
   "metadata": {},
   "outputs": [],
   "source": [
    "if_data = pd.read_csv('./Blade Life/IF Analysis.csv')"
   ]
  },
  {
   "cell_type": "code",
   "execution_count": 3,
   "metadata": {},
   "outputs": [],
   "source": [
    "if_data = if_data.drop(['Unnamed: 0'], axis=1)"
   ]
  },
  {
   "cell_type": "code",
   "execution_count": 4,
   "metadata": {
    "scrolled": true
   },
   "outputs": [
    {
     "data": {
      "text/html": [
       "<div>\n",
       "<style scoped>\n",
       "    .dataframe tbody tr th:only-of-type {\n",
       "        vertical-align: middle;\n",
       "    }\n",
       "\n",
       "    .dataframe tbody tr th {\n",
       "        vertical-align: top;\n",
       "    }\n",
       "\n",
       "    .dataframe thead th {\n",
       "        text-align: right;\n",
       "    }\n",
       "</style>\n",
       "<table border=\"1\" class=\"dataframe\">\n",
       "  <thead>\n",
       "    <tr style=\"text-align: right;\">\n",
       "      <th></th>\n",
       "      <th>Time</th>\n",
       "      <th>Time Elapsed</th>\n",
       "      <th>Month</th>\n",
       "      <th>CutMotorTorque</th>\n",
       "      <th>CutLagerror</th>\n",
       "      <th>CutActualPosition</th>\n",
       "      <th>CutActualSpeed</th>\n",
       "      <th>FilmActualPosition</th>\n",
       "      <th>FilmActualSpeed</th>\n",
       "      <th>FilmLagError</th>\n",
       "      <th>VAXSpeed</th>\n",
       "      <th>Mode</th>\n",
       "      <th>Anomaly</th>\n",
       "      <th>Anomaly Score</th>\n",
       "    </tr>\n",
       "  </thead>\n",
       "  <tbody>\n",
       "    <tr>\n",
       "      <th>0</th>\n",
       "      <td>2000/01/04 18:41:48.008</td>\n",
       "      <td>0.008</td>\n",
       "      <td>1</td>\n",
       "      <td>0.199603</td>\n",
       "      <td>0.027420</td>\n",
       "      <td>628392628</td>\n",
       "      <td>-920.104980</td>\n",
       "      <td>5298555</td>\n",
       "      <td>2441.235352</td>\n",
       "      <td>0.899543</td>\n",
       "      <td>1379.999756</td>\n",
       "      <td>1</td>\n",
       "      <td>0</td>\n",
       "      <td>0.128525</td>\n",
       "    </tr>\n",
       "    <tr>\n",
       "      <th>1</th>\n",
       "      <td>2000/01/04 18:41:48.011</td>\n",
       "      <td>0.012</td>\n",
       "      <td>1</td>\n",
       "      <td>0.281624</td>\n",
       "      <td>0.002502</td>\n",
       "      <td>628392625</td>\n",
       "      <td>-937.271118</td>\n",
       "      <td>5298565</td>\n",
       "      <td>2453.819092</td>\n",
       "      <td>0.874072</td>\n",
       "      <td>1379.999756</td>\n",
       "      <td>1</td>\n",
       "      <td>0</td>\n",
       "      <td>0.133237</td>\n",
       "    </tr>\n",
       "    <tr>\n",
       "      <th>2</th>\n",
       "      <td>2000/01/04 18:41:48.015</td>\n",
       "      <td>0.016</td>\n",
       "      <td>1</td>\n",
       "      <td>0.349315</td>\n",
       "      <td>-0.018085</td>\n",
       "      <td>628392621</td>\n",
       "      <td>-951.004028</td>\n",
       "      <td>5298575</td>\n",
       "      <td>2476.469727</td>\n",
       "      <td>0.879806</td>\n",
       "      <td>1379.999756</td>\n",
       "      <td>1</td>\n",
       "      <td>0</td>\n",
       "      <td>0.130823</td>\n",
       "    </tr>\n",
       "    <tr>\n",
       "      <th>3</th>\n",
       "      <td>2000/01/04 18:41:48.019</td>\n",
       "      <td>0.020</td>\n",
       "      <td>1</td>\n",
       "      <td>0.444450</td>\n",
       "      <td>-0.054680</td>\n",
       "      <td>628392617</td>\n",
       "      <td>-1019.668579</td>\n",
       "      <td>5298585</td>\n",
       "      <td>2501.637207</td>\n",
       "      <td>0.837500</td>\n",
       "      <td>1379.999756</td>\n",
       "      <td>1</td>\n",
       "      <td>0</td>\n",
       "      <td>0.102055</td>\n",
       "    </tr>\n",
       "    <tr>\n",
       "      <th>4</th>\n",
       "      <td>2000/01/04 18:41:48.023</td>\n",
       "      <td>0.024</td>\n",
       "      <td>1</td>\n",
       "      <td>0.480923</td>\n",
       "      <td>-0.042770</td>\n",
       "      <td>628392613</td>\n",
       "      <td>-1023.101807</td>\n",
       "      <td>5298595</td>\n",
       "      <td>2519.254395</td>\n",
       "      <td>0.905347</td>\n",
       "      <td>1379.999756</td>\n",
       "      <td>1</td>\n",
       "      <td>0</td>\n",
       "      <td>0.109986</td>\n",
       "    </tr>\n",
       "  </tbody>\n",
       "</table>\n",
       "</div>"
      ],
      "text/plain": [
       "                      Time  Time Elapsed  Month  CutMotorTorque  CutLagerror  \\\n",
       "0  2000/01/04 18:41:48.008         0.008      1        0.199603     0.027420   \n",
       "1  2000/01/04 18:41:48.011         0.012      1        0.281624     0.002502   \n",
       "2  2000/01/04 18:41:48.015         0.016      1        0.349315    -0.018085   \n",
       "3  2000/01/04 18:41:48.019         0.020      1        0.444450    -0.054680   \n",
       "4  2000/01/04 18:41:48.023         0.024      1        0.480923    -0.042770   \n",
       "\n",
       "   CutActualPosition  CutActualSpeed  FilmActualPosition  FilmActualSpeed  \\\n",
       "0          628392628     -920.104980             5298555      2441.235352   \n",
       "1          628392625     -937.271118             5298565      2453.819092   \n",
       "2          628392621     -951.004028             5298575      2476.469727   \n",
       "3          628392617    -1019.668579             5298585      2501.637207   \n",
       "4          628392613    -1023.101807             5298595      2519.254395   \n",
       "\n",
       "   FilmLagError     VAXSpeed  Mode  Anomaly  Anomaly Score  \n",
       "0      0.899543  1379.999756     1        0       0.128525  \n",
       "1      0.874072  1379.999756     1        0       0.133237  \n",
       "2      0.879806  1379.999756     1        0       0.130823  \n",
       "3      0.837500  1379.999756     1        0       0.102055  \n",
       "4      0.905347  1379.999756     1        0       0.109986  "
      ]
     },
     "execution_count": 4,
     "metadata": {},
     "output_type": "execute_result"
    }
   ],
   "source": [
    "if_data.head()"
   ]
  },
  {
   "cell_type": "code",
   "execution_count": 5,
   "metadata": {},
   "outputs": [],
   "source": [
    "month1 = if_data[if_data['Month']==1]\n",
    "month2 = if_data[if_data['Month']==2]\n",
    "month3 = if_data[if_data['Month']==3]\n",
    "month4 = if_data[if_data['Month']==4]\n",
    "month5 = if_data[if_data['Month']==5]\n",
    "month6 = if_data[if_data['Month']==6]\n",
    "month7 = if_data[if_data['Month']==7]\n",
    "month8 = if_data[if_data['Month']==8]\n",
    "month9 = if_data[if_data['Month']==9]\n",
    "month10 = if_data[if_data['Month']==10]\n",
    "month11 = if_data[if_data['Month']==11]\n",
    "month12 = if_data[if_data['Month']==12]\n",
    "month_data = [month1, month2, month3, month4, month5, month6, month7, month8, month9, month10, month11, month12]"
   ]
  },
  {
   "cell_type": "code",
   "execution_count": 8,
   "metadata": {},
   "outputs": [
    {
     "data": {
      "image/png": "[encoded data removed]",
      "text/plain": [
       "<Figure size 432x288 with 1 Axes>"
      ]
     },
     "metadata": {
      "needs_background": "light"
     },
     "output_type": "display_data"
    }
   ],
   "source": [
    "anomalies = []\n",
    "months = [1,2,3,4,5,6,7,8,9,10,11,12]\n",
    "for d in month_data:\n",
    "    a = d['Anomaly']\n",
    "    val = a.value_counts()[1]\n",
    "    anomalies.append(val)\n",
    "\n",
    "plt.plot(months,anomalies, '*-')\n",
    "plt.xticks(months)\n",
    "plt.xlabel('Month')\n",
    "plt.ylabel('Count')\n",
    "plt.title('Count of anomalies monthwise from IF')\n",
    "plt.show()"
   ]
  },
  {
   "cell_type": "markdown",
   "metadata": {},
   "source": [
    "# New Blade"
   ]
  },
  {
   "cell_type": "markdown",
   "metadata": {},
   "source": [
    "<p>Here we perform PCA and use PCA1 to find MSE b/w new blade and each of the 519 files. Then we use a threshold to make a boolean variable to indicate if each file represents a new blade or not</p>"
   ]
  },
  {
   "cell_type": "code",
   "execution_count": 9,
   "metadata": {},
   "outputs": [],
   "source": [
    "new_blade = pd.read_csv('./Blade New/Data/NewBlade001.csv')"
   ]
  },
  {
   "cell_type": "code",
   "execution_count": 10,
   "metadata": {},
   "outputs": [],
   "source": [
    "new_blade = new_blade.drop(['Timestamp'], axis=1)"
   ]
  },
  {
   "cell_type": "code",
   "execution_count": 11,
   "metadata": {},
   "outputs": [],
   "source": [
    "scaler = MinMaxScaler() \n",
    "scaled = scaler.fit_transform(new_blade)\n",
    "new_blade = pd.DataFrame(scaled, columns = new_blade.columns)"
   ]
  },
  {
   "cell_type": "code",
   "execution_count": 12,
   "metadata": {},
   "outputs": [],
   "source": [
    "new_blade.rename(columns={\"pCut Motor: Torque\":\"CutMotorTorque\",\n",
    "                         \" pCut CTRL Position controller: Lag error\": \"CutLagError\",\n",
    "                         \" pCut CTRL Position controller: Actual position\" :\"CutActualPosition\",\n",
    "                         \" pCut CTRL Position controller: Actual speed\":\"CutActualSpeed\",\n",
    "                         \" pSvolFilm CTRL Position controller: Actual position\":\"FilmActualPosition\",\n",
    "                         \" pSvolFilm CTRL Position controller: Actual speed\":\"FilmActualSpeed\",\n",
    "                         \" pSvolFilm CTRL Position controller: Lag error\":\"FilmLagError\"},\n",
    "                inplace=True)"
   ]
  },
  {
   "cell_type": "code",
   "execution_count": 13,
   "metadata": {},
   "outputs": [
    {
     "data": {
      "text/html": [
       "<div>\n",
       "<style scoped>\n",
       "    .dataframe tbody tr th:only-of-type {\n",
       "        vertical-align: middle;\n",
       "    }\n",
       "\n",
       "    .dataframe tbody tr th {\n",
       "        vertical-align: top;\n",
       "    }\n",
       "\n",
       "    .dataframe thead th {\n",
       "        text-align: right;\n",
       "    }\n",
       "</style>\n",
       "<table border=\"1\" class=\"dataframe\">\n",
       "  <thead>\n",
       "    <tr style=\"text-align: right;\">\n",
       "      <th></th>\n",
       "      <th>CutMotorTorque</th>\n",
       "      <th>CutLagError</th>\n",
       "      <th>CutActualPosition</th>\n",
       "      <th>CutActualSpeed</th>\n",
       "      <th>FilmActualPosition</th>\n",
       "      <th>FilmActualSpeed</th>\n",
       "      <th>FilmLagError</th>\n",
       "    </tr>\n",
       "  </thead>\n",
       "  <tbody>\n",
       "    <tr>\n",
       "      <th>0</th>\n",
       "      <td>0.752139</td>\n",
       "      <td>0.594529</td>\n",
       "      <td>0.018434</td>\n",
       "      <td>0.211568</td>\n",
       "      <td>0.0</td>\n",
       "      <td>0.004825</td>\n",
       "      <td>0.003281</td>\n",
       "    </tr>\n",
       "    <tr>\n",
       "      <th>1</th>\n",
       "      <td>0.760143</td>\n",
       "      <td>0.592932</td>\n",
       "      <td>0.018434</td>\n",
       "      <td>0.215373</td>\n",
       "      <td>0.0</td>\n",
       "      <td>0.002413</td>\n",
       "      <td>0.001641</td>\n",
       "    </tr>\n",
       "    <tr>\n",
       "      <th>2</th>\n",
       "      <td>0.751100</td>\n",
       "      <td>0.599321</td>\n",
       "      <td>0.018434</td>\n",
       "      <td>0.210046</td>\n",
       "      <td>0.0</td>\n",
       "      <td>0.007238</td>\n",
       "      <td>0.000000</td>\n",
       "    </tr>\n",
       "    <tr>\n",
       "      <th>3</th>\n",
       "      <td>0.752248</td>\n",
       "      <td>0.600919</td>\n",
       "      <td>0.018434</td>\n",
       "      <td>0.208524</td>\n",
       "      <td>0.0</td>\n",
       "      <td>0.002413</td>\n",
       "      <td>0.001641</td>\n",
       "    </tr>\n",
       "    <tr>\n",
       "      <th>4</th>\n",
       "      <td>0.745639</td>\n",
       "      <td>0.602516</td>\n",
       "      <td>0.018434</td>\n",
       "      <td>0.210046</td>\n",
       "      <td>0.0</td>\n",
       "      <td>0.003619</td>\n",
       "      <td>0.003281</td>\n",
       "    </tr>\n",
       "  </tbody>\n",
       "</table>\n",
       "</div>"
      ],
      "text/plain": [
       "   CutMotorTorque  CutLagError  CutActualPosition  CutActualSpeed  \\\n",
       "0        0.752139     0.594529           0.018434        0.211568   \n",
       "1        0.760143     0.592932           0.018434        0.215373   \n",
       "2        0.751100     0.599321           0.018434        0.210046   \n",
       "3        0.752248     0.600919           0.018434        0.208524   \n",
       "4        0.745639     0.602516           0.018434        0.210046   \n",
       "\n",
       "   FilmActualPosition  FilmActualSpeed  FilmLagError  \n",
       "0                 0.0         0.004825      0.003281  \n",
       "1                 0.0         0.002413      0.001641  \n",
       "2                 0.0         0.007238      0.000000  \n",
       "3                 0.0         0.002413      0.001641  \n",
       "4                 0.0         0.003619      0.003281  "
      ]
     },
     "execution_count": 13,
     "metadata": {},
     "output_type": "execute_result"
    }
   ],
   "source": [
    "new_blade.head()"
   ]
  },
  {
   "cell_type": "code",
   "execution_count": 14,
   "metadata": {},
   "outputs": [],
   "source": [
    "files = []\n",
    "for r, d, f in os.walk('./Blade Life/Data'):\n",
    "   for item in f:\n",
    "    files.append(os.path.join(r, item))"
   ]
  },
  {
   "cell_type": "code",
   "execution_count": 16,
   "metadata": {},
   "outputs": [],
   "source": [
    "pca = PCA(n_components = 7)\n",
    "principalComponents = pca.fit_transform(new_blade)\n",
    "new_blade_pca = pd.DataFrame(data = principalComponents, columns = ['PCA1', 'PCA2', 'PCA3', 'PCA4', 'PCA5', 'PCA6', 'PCA7'])"
   ]
  },
  {
   "cell_type": "code",
   "execution_count": 17,
   "metadata": {},
   "outputs": [
    {
     "data": {
      "image/png": "[encoded data removed]",
      "text/plain": [
       "<Figure size 432x288 with 1 Axes>"
      ]
     },
     "metadata": {
      "needs_background": "light"
     },
     "output_type": "display_data"
    }
   ],
   "source": [
    "plt.plot(pca.explained_variance_ratio_, 'o-')\n",
    "plt.xlabel('PCA')\n",
    "plt.ylabel('Variance')\n",
    "plt.title('PCA Variance Plot')\n",
    "plt.show()"
   ]
  },
  {
   "cell_type": "code",
   "execution_count": 18,
   "metadata": {},
   "outputs": [
    {
     "data": {
      "text/html": [
       "<div>\n",
       "<style scoped>\n",
       "    .dataframe tbody tr th:only-of-type {\n",
       "        vertical-align: middle;\n",
       "    }\n",
       "\n",
       "    .dataframe tbody tr th {\n",
       "        vertical-align: top;\n",
       "    }\n",
       "\n",
       "    .dataframe thead th {\n",
       "        text-align: right;\n",
       "    }\n",
       "</style>\n",
       "<table border=\"1\" class=\"dataframe\">\n",
       "  <thead>\n",
       "    <tr style=\"text-align: right;\">\n",
       "      <th></th>\n",
       "      <th>File</th>\n",
       "      <th>Mode</th>\n",
       "      <th>Month</th>\n",
       "      <th>PCA1</th>\n",
       "      <th>PCA2</th>\n",
       "      <th>PCA3</th>\n",
       "    </tr>\n",
       "  </thead>\n",
       "  <tbody>\n",
       "  </tbody>\n",
       "</table>\n",
       "</div>"
      ],
      "text/plain": [
       "Empty DataFrame\n",
       "Columns: [File, Mode, Month, PCA1, PCA2, PCA3]\n",
       "Index: []"
      ]
     },
     "execution_count": 18,
     "metadata": {},
     "output_type": "execute_result"
    }
   ],
   "source": [
    "compare_new_pca = pd.DataFrame(columns = ['File', 'Mode', 'Month', 'PCA1', 'PCA2', 'PCA3'])\n",
    "compare_new_pca "
   ]
  },
  {
   "cell_type": "code",
   "execution_count": 19,
   "metadata": {},
   "outputs": [],
   "source": [
    "# let us consider PCA1, PCA2, PCA3\n",
    "for file in files:\n",
    "    \n",
    "    df = pd.read_csv(file)\n",
    "    df.rename(columns={\"timestamp\":\"Time Elapsed\",\n",
    "                         \"pCut::Motor_Torque\":\"CutMotorTorque\",\n",
    "                         \"pCut::CTRL_Position_controller::Lag_error\": \"CutLagError\",\n",
    "                         \"pCut::CTRL_Position_controller::Actual_position\" :\"CutActualPosition\",\n",
    "                         \"pCut::CTRL_Position_controller::Actual_speed\":\"CutActualSpeed\",\n",
    "                         \"pSvolFilm::CTRL_Position_controller::Actual_position\":\"FilmActualPosition\",\n",
    "                         \"pSvolFilm::CTRL_Position_controller::Actual_speed\":\"FilmActualSpeed\",\n",
    "                         \"pSvolFilm::CTRL_Position_controller::Lag_error\":\"FilmLagError\",\n",
    "                         \"pSpintor::VAX_speed\":\"VAXSpeed\"},\n",
    "                inplace=True)\n",
    "    scaler = MinMaxScaler() \n",
    "    scaled = scaler.fit_transform(df)\n",
    "    df = pd.DataFrame(scaled, columns = df.columns)\n",
    "    \n",
    "    principal_components = pca.fit_transform(df)\n",
    "    df_pca = pd.DataFrame(data = principal_components, columns = ['PCA1', 'PCA2', 'PCA3', 'PCA4', 'PCA5', 'PCA6', 'PCA7'])\n",
    "    \n",
    "    s = str(file)\n",
    "    month = s[18:20]\n",
    "    mode = s[39]\n",
    "    fileno = s[31:34]\n",
    "    \n",
    "    mse_values = []\n",
    "    for i in range(4):\n",
    "        val = mean_squared_error(df_pca.iloc[:,i], new_blade_pca.iloc[:,i])\n",
    "        mse_values.append(val)\n",
    "    compare_new_pca = compare_new_pca.append({'File':fileno, 'Mode':mode, 'Month':month, \n",
    "                                              'PCA1':mse_values[0], 'PCA2':mse_values[1], \n",
    "                                               'PCA3':mse_values[2]}, ignore_index=True)\n"
   ]
  },
  {
   "cell_type": "code",
   "execution_count": 20,
   "metadata": {},
   "outputs": [
    {
     "data": {
      "text/html": [
       "<div>\n",
       "<style scoped>\n",
       "    .dataframe tbody tr th:only-of-type {\n",
       "        vertical-align: middle;\n",
       "    }\n",
       "\n",
       "    .dataframe tbody tr th {\n",
       "        vertical-align: top;\n",
       "    }\n",
       "\n",
       "    .dataframe thead th {\n",
       "        text-align: right;\n",
       "    }\n",
       "</style>\n",
       "<table border=\"1\" class=\"dataframe\">\n",
       "  <thead>\n",
       "    <tr style=\"text-align: right;\">\n",
       "      <th></th>\n",
       "      <th>File</th>\n",
       "      <th>Mode</th>\n",
       "      <th>Month</th>\n",
       "      <th>PCA1</th>\n",
       "      <th>PCA2</th>\n",
       "      <th>PCA3</th>\n",
       "    </tr>\n",
       "  </thead>\n",
       "  <tbody>\n",
       "    <tr>\n",
       "      <th>0</th>\n",
       "      <td>000</td>\n",
       "      <td>1</td>\n",
       "      <td>01</td>\n",
       "      <td>1.178959</td>\n",
       "      <td>0.093693</td>\n",
       "      <td>0.077191</td>\n",
       "    </tr>\n",
       "    <tr>\n",
       "      <th>1</th>\n",
       "      <td>001</td>\n",
       "      <td>1</td>\n",
       "      <td>01</td>\n",
       "      <td>0.141376</td>\n",
       "      <td>0.373572</td>\n",
       "      <td>0.057997</td>\n",
       "    </tr>\n",
       "    <tr>\n",
       "      <th>2</th>\n",
       "      <td>002</td>\n",
       "      <td>1</td>\n",
       "      <td>01</td>\n",
       "      <td>0.075227</td>\n",
       "      <td>0.246026</td>\n",
       "      <td>0.075594</td>\n",
       "    </tr>\n",
       "    <tr>\n",
       "      <th>3</th>\n",
       "      <td>003</td>\n",
       "      <td>1</td>\n",
       "      <td>01</td>\n",
       "      <td>0.959108</td>\n",
       "      <td>0.246596</td>\n",
       "      <td>0.115863</td>\n",
       "    </tr>\n",
       "    <tr>\n",
       "      <th>4</th>\n",
       "      <td>004</td>\n",
       "      <td>1</td>\n",
       "      <td>01</td>\n",
       "      <td>0.902167</td>\n",
       "      <td>0.303740</td>\n",
       "      <td>0.133356</td>\n",
       "    </tr>\n",
       "    <tr>\n",
       "      <th>...</th>\n",
       "      <td>...</td>\n",
       "      <td>...</td>\n",
       "      <td>...</td>\n",
       "      <td>...</td>\n",
       "      <td>...</td>\n",
       "      <td>...</td>\n",
       "    </tr>\n",
       "    <tr>\n",
       "      <th>514</th>\n",
       "      <td>514</td>\n",
       "      <td>1</td>\n",
       "      <td>12</td>\n",
       "      <td>0.948770</td>\n",
       "      <td>0.321167</td>\n",
       "      <td>0.115728</td>\n",
       "    </tr>\n",
       "    <tr>\n",
       "      <th>515</th>\n",
       "      <td>515</td>\n",
       "      <td>2</td>\n",
       "      <td>12</td>\n",
       "      <td>0.188382</td>\n",
       "      <td>0.305220</td>\n",
       "      <td>0.092025</td>\n",
       "    </tr>\n",
       "    <tr>\n",
       "      <th>516</th>\n",
       "      <td>516</td>\n",
       "      <td>2</td>\n",
       "      <td>12</td>\n",
       "      <td>0.199689</td>\n",
       "      <td>0.282657</td>\n",
       "      <td>0.097624</td>\n",
       "    </tr>\n",
       "    <tr>\n",
       "      <th>517</th>\n",
       "      <td>517</td>\n",
       "      <td>2</td>\n",
       "      <td>12</td>\n",
       "      <td>0.024408</td>\n",
       "      <td>0.385584</td>\n",
       "      <td>0.106206</td>\n",
       "    </tr>\n",
       "    <tr>\n",
       "      <th>518</th>\n",
       "      <td>518</td>\n",
       "      <td>2</td>\n",
       "      <td>12</td>\n",
       "      <td>0.055832</td>\n",
       "      <td>0.236557</td>\n",
       "      <td>0.124244</td>\n",
       "    </tr>\n",
       "  </tbody>\n",
       "</table>\n",
       "<p>519 rows × 6 columns</p>\n",
       "</div>"
      ],
      "text/plain": [
       "    File Mode Month      PCA1      PCA2      PCA3\n",
       "0    000    1    01  1.178959  0.093693  0.077191\n",
       "1    001    1    01  0.141376  0.373572  0.057997\n",
       "2    002    1    01  0.075227  0.246026  0.075594\n",
       "3    003    1    01  0.959108  0.246596  0.115863\n",
       "4    004    1    01  0.902167  0.303740  0.133356\n",
       "..   ...  ...   ...       ...       ...       ...\n",
       "514  514    1    12  0.948770  0.321167  0.115728\n",
       "515  515    2    12  0.188382  0.305220  0.092025\n",
       "516  516    2    12  0.199689  0.282657  0.097624\n",
       "517  517    2    12  0.024408  0.385584  0.106206\n",
       "518  518    2    12  0.055832  0.236557  0.124244\n",
       "\n",
       "[519 rows x 6 columns]"
      ]
     },
     "execution_count": 20,
     "metadata": {},
     "output_type": "execute_result"
    }
   ],
   "source": [
    "compare_new_pca"
   ]
  },
  {
   "cell_type": "code",
   "execution_count": 21,
   "metadata": {
    "scrolled": true
   },
   "outputs": [
    {
     "data": {
      "text/html": [
       "<div>\n",
       "<style scoped>\n",
       "    .dataframe tbody tr th:only-of-type {\n",
       "        vertical-align: middle;\n",
       "    }\n",
       "\n",
       "    .dataframe tbody tr th {\n",
       "        vertical-align: top;\n",
       "    }\n",
       "\n",
       "    .dataframe thead th {\n",
       "        text-align: right;\n",
       "    }\n",
       "</style>\n",
       "<table border=\"1\" class=\"dataframe\">\n",
       "  <thead>\n",
       "    <tr style=\"text-align: right;\">\n",
       "      <th></th>\n",
       "      <th>PCA1</th>\n",
       "      <th>PCA2</th>\n",
       "      <th>PCA3</th>\n",
       "    </tr>\n",
       "  </thead>\n",
       "  <tbody>\n",
       "    <tr>\n",
       "      <th>count</th>\n",
       "      <td>519.000000</td>\n",
       "      <td>519.000000</td>\n",
       "      <td>519.000000</td>\n",
       "    </tr>\n",
       "    <tr>\n",
       "      <th>mean</th>\n",
       "      <td>0.487514</td>\n",
       "      <td>0.307957</td>\n",
       "      <td>0.129250</td>\n",
       "    </tr>\n",
       "    <tr>\n",
       "      <th>std</th>\n",
       "      <td>0.358663</td>\n",
       "      <td>0.061689</td>\n",
       "      <td>0.042013</td>\n",
       "    </tr>\n",
       "    <tr>\n",
       "      <th>min</th>\n",
       "      <td>0.003613</td>\n",
       "      <td>0.034887</td>\n",
       "      <td>0.050309</td>\n",
       "    </tr>\n",
       "    <tr>\n",
       "      <th>25%</th>\n",
       "      <td>0.105282</td>\n",
       "      <td>0.274396</td>\n",
       "      <td>0.105848</td>\n",
       "    </tr>\n",
       "    <tr>\n",
       "      <th>50%</th>\n",
       "      <td>0.463075</td>\n",
       "      <td>0.305500</td>\n",
       "      <td>0.121144</td>\n",
       "    </tr>\n",
       "    <tr>\n",
       "      <th>75%</th>\n",
       "      <td>0.829873</td>\n",
       "      <td>0.364568</td>\n",
       "      <td>0.146578</td>\n",
       "    </tr>\n",
       "    <tr>\n",
       "      <th>max</th>\n",
       "      <td>1.419605</td>\n",
       "      <td>0.512965</td>\n",
       "      <td>0.304913</td>\n",
       "    </tr>\n",
       "  </tbody>\n",
       "</table>\n",
       "</div>"
      ],
      "text/plain": [
       "             PCA1        PCA2        PCA3\n",
       "count  519.000000  519.000000  519.000000\n",
       "mean     0.487514    0.307957    0.129250\n",
       "std      0.358663    0.061689    0.042013\n",
       "min      0.003613    0.034887    0.050309\n",
       "25%      0.105282    0.274396    0.105848\n",
       "50%      0.463075    0.305500    0.121144\n",
       "75%      0.829873    0.364568    0.146578\n",
       "max      1.419605    0.512965    0.304913"
      ]
     },
     "execution_count": 21,
     "metadata": {},
     "output_type": "execute_result"
    }
   ],
   "source": [
    "compare_new_pca.describe()"
   ]
  },
  {
   "cell_type": "code",
   "execution_count": 22,
   "metadata": {},
   "outputs": [],
   "source": [
    "compare_new_pca['Is New'] = 0"
   ]
  },
  {
   "cell_type": "code",
   "execution_count": 23,
   "metadata": {},
   "outputs": [
    {
     "data": {
      "text/html": [
       "<div>\n",
       "<style scoped>\n",
       "    .dataframe tbody tr th:only-of-type {\n",
       "        vertical-align: middle;\n",
       "    }\n",
       "\n",
       "    .dataframe tbody tr th {\n",
       "        vertical-align: top;\n",
       "    }\n",
       "\n",
       "    .dataframe thead th {\n",
       "        text-align: right;\n",
       "    }\n",
       "</style>\n",
       "<table border=\"1\" class=\"dataframe\">\n",
       "  <thead>\n",
       "    <tr style=\"text-align: right;\">\n",
       "      <th></th>\n",
       "      <th>File</th>\n",
       "      <th>Mode</th>\n",
       "      <th>Month</th>\n",
       "      <th>PCA1</th>\n",
       "      <th>PCA2</th>\n",
       "      <th>PCA3</th>\n",
       "      <th>Is New</th>\n",
       "    </tr>\n",
       "  </thead>\n",
       "  <tbody>\n",
       "    <tr>\n",
       "      <th>0</th>\n",
       "      <td>000</td>\n",
       "      <td>1</td>\n",
       "      <td>01</td>\n",
       "      <td>1.178959</td>\n",
       "      <td>0.093693</td>\n",
       "      <td>0.077191</td>\n",
       "      <td>0</td>\n",
       "    </tr>\n",
       "    <tr>\n",
       "      <th>1</th>\n",
       "      <td>001</td>\n",
       "      <td>1</td>\n",
       "      <td>01</td>\n",
       "      <td>0.141376</td>\n",
       "      <td>0.373572</td>\n",
       "      <td>0.057997</td>\n",
       "      <td>0</td>\n",
       "    </tr>\n",
       "    <tr>\n",
       "      <th>2</th>\n",
       "      <td>002</td>\n",
       "      <td>1</td>\n",
       "      <td>01</td>\n",
       "      <td>0.075227</td>\n",
       "      <td>0.246026</td>\n",
       "      <td>0.075594</td>\n",
       "      <td>0</td>\n",
       "    </tr>\n",
       "    <tr>\n",
       "      <th>3</th>\n",
       "      <td>003</td>\n",
       "      <td>1</td>\n",
       "      <td>01</td>\n",
       "      <td>0.959108</td>\n",
       "      <td>0.246596</td>\n",
       "      <td>0.115863</td>\n",
       "      <td>0</td>\n",
       "    </tr>\n",
       "    <tr>\n",
       "      <th>4</th>\n",
       "      <td>004</td>\n",
       "      <td>1</td>\n",
       "      <td>01</td>\n",
       "      <td>0.902167</td>\n",
       "      <td>0.303740</td>\n",
       "      <td>0.133356</td>\n",
       "      <td>0</td>\n",
       "    </tr>\n",
       "  </tbody>\n",
       "</table>\n",
       "</div>"
      ],
      "text/plain": [
       "  File Mode Month      PCA1      PCA2      PCA3  Is New\n",
       "0  000    1    01  1.178959  0.093693  0.077191       0\n",
       "1  001    1    01  0.141376  0.373572  0.057997       0\n",
       "2  002    1    01  0.075227  0.246026  0.075594       0\n",
       "3  003    1    01  0.959108  0.246596  0.115863       0\n",
       "4  004    1    01  0.902167  0.303740  0.133356       0"
      ]
     },
     "execution_count": 23,
     "metadata": {},
     "output_type": "execute_result"
    }
   ],
   "source": [
    "compare_new_pca.head()"
   ]
  },
  {
   "cell_type": "code",
   "execution_count": 24,
   "metadata": {},
   "outputs": [
    {
     "name": "stderr",
     "output_type": "stream",
     "text": [
      "<ipython-input-24-bcc78ada43f0>:8: SettingWithCopyWarning: \n",
      "A value is trying to be set on a copy of a slice from a DataFrame\n",
      "\n",
      "See the caveats in the documentation: https://pandas.pydata.org/pandas-docs/stable/user_guide/indexing.html#returning-a-view-versus-a-copy\n",
      "  compare_new_pca['Is New'][i] = 1\n"
     ]
    }
   ],
   "source": [
    "# now let us consideronly PCA1 for further analysis\n",
    "# we will now create a new column to indicate if the file is similar to the new blade or not\n",
    "# we will use the threshold of std=0.358 i.e if error is < threshold it is accepted as new blade\n",
    "\n",
    "for i in compare_new_pca.index:\n",
    "    x = compare_new_pca['PCA1'][i]\n",
    "    if x < 0.358:\n",
    "        compare_new_pca['Is New'][i] = 1"
   ]
  },
  {
   "cell_type": "code",
   "execution_count": 25,
   "metadata": {},
   "outputs": [],
   "source": [
    "# grouping it monthwise\n",
    "month1 = compare_new_pca[compare_new_pca['Month']=='01']\n",
    "month2 = compare_new_pca[compare_new_pca['Month']=='02']\n",
    "month3 = compare_new_pca[compare_new_pca['Month']=='03']\n",
    "month4 = compare_new_pca[compare_new_pca['Month']=='04']\n",
    "month5 = compare_new_pca[compare_new_pca['Month']=='05']\n",
    "month6 = compare_new_pca[compare_new_pca['Month']=='06']\n",
    "month7 = compare_new_pca[compare_new_pca['Month']=='07']\n",
    "month8 = compare_new_pca[compare_new_pca['Month']=='08']\n",
    "month9 = compare_new_pca[compare_new_pca['Month']=='09']\n",
    "month10 = compare_new_pca[compare_new_pca['Month']=='10']\n",
    "month11 = compare_new_pca[compare_new_pca['Month']=='11']\n",
    "month12 = compare_new_pca[compare_new_pca['Month']=='12']\n",
    "month_data = [month1, month2, month3, month4, month5, month6, month7, month8, month9, month10, month11, month12]"
   ]
  },
  {
   "cell_type": "code",
   "execution_count": 26,
   "metadata": {},
   "outputs": [
    {
     "data": {
      "text/plain": [
       "0    60\n",
       "1    35\n",
       "Name: Is New, dtype: int64"
      ]
     },
     "execution_count": 26,
     "metadata": {},
     "output_type": "execute_result"
    }
   ],
   "source": [
    "month1['Is New'].value_counts()"
   ]
  },
  {
   "cell_type": "code",
   "execution_count": 31,
   "metadata": {},
   "outputs": [
    {
     "data": {
      "image/png": "[encoded data removed]",
      "text/plain": [
       "<Figure size 432x288 with 1 Axes>"
      ]
     },
     "metadata": {
      "needs_background": "light"
     },
     "output_type": "display_data"
    }
   ],
   "source": [
    "counts = []\n",
    "totals = [len(x) for x in month_data]\n",
    "months = [1,2,3,4,5,6,7,8,9,10,11,12]\n",
    "for d in month_data:\n",
    "    a = d['Is New']\n",
    "    val = a.value_counts()[0]\n",
    "    counts.append(val)\n",
    "\n",
    "plt.plot(months,counts, '*-')\n",
    "plt.xticks(months)\n",
    "plt.xlabel('Month')\n",
    "plt.ylabel('Count')\n",
    "plt.title('Count of worn blades montwise')\n",
    "plt.show()"
   ]
  },
  {
   "cell_type": "code",
   "execution_count": null,
   "metadata": {},
   "outputs": [],
   "source": []
  }
 ],
 "metadata": {
  "kernelspec": {
   "display_name": "Python 3",
   "language": "python",
   "name": "python3"
  },
  "language_info": {
   "codemirror_mode": {
    "name": "ipython",
    "version": 3
   },
   "file_extension": ".py",
   "mimetype": "text/x-python",
   "name": "python",
   "nbconvert_exporter": "python",
   "pygments_lexer": "ipython3",
   "version": "3.8.3"
  }
 },
 "nbformat": 4,
 "nbformat_minor": 4
}
